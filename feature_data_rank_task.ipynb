{
 "cells": [
  {
   "cell_type": "markdown",
   "metadata": {},
   "source": [
    "## Task to analyse the sensor data and rank the sensors according to their importance/predictive power with respect to the class labels of the samples"
   ]
  },
  {
   "cell_type": "code",
   "execution_count": 36,
   "metadata": {},
   "outputs": [],
   "source": [
    "# import library\n",
    "import numpy as np\n",
    "import pandas as pd\n",
    "\n",
    "import seaborn as sns\n",
    "import matplotlib.pyplot as plt\n",
    "%matplotlib inline\n",
    "from sklearn.tree import DecisionTreeClassifier\n",
    "from sklearn.model_selection import cross_val_score\n",
    "from sklearn.ensemble import RandomForestClassifier\n",
    "from sklearn.model_selection import train_test_split, cross_val_score\n",
    "from sklearn.metrics import confusion_matrix\n",
    "from sklearn.preprocessing import StandardScaler\n",
    "from sklearn.ensemble import ExtraTreesClassifier\n",
    "\n",
    "from xgboost import XGBClassifier"
   ]
  },
  {
   "cell_type": "markdown",
   "metadata": {},
   "source": [
    "## Data Cleaning"
   ]
  },
  {
   "cell_type": "code",
   "execution_count": 2,
   "metadata": {},
   "outputs": [],
   "source": [
    "sensor_data = pd.read_csv(\n",
    "    'task_data.csv'\n",
    ")"
   ]
  },
  {
   "cell_type": "code",
   "execution_count": 3,
   "metadata": {},
   "outputs": [
    {
     "data": {
      "text/plain": [
       "-1.0    200\n",
       " 1.0    200\n",
       "Name: class_label, dtype: int64"
      ]
     },
     "execution_count": 3,
     "metadata": {},
     "output_type": "execute_result"
    }
   ],
   "source": [
    "# count number of sample related to class label\n",
    "sensor_data.class_label.value_counts()"
   ]
  },
  {
   "cell_type": "code",
   "execution_count": 4,
   "metadata": {},
   "outputs": [
    {
     "data": {
      "text/html": [
       "<div>\n",
       "<style scoped>\n",
       "    .dataframe tbody tr th:only-of-type {\n",
       "        vertical-align: middle;\n",
       "    }\n",
       "\n",
       "    .dataframe tbody tr th {\n",
       "        vertical-align: top;\n",
       "    }\n",
       "\n",
       "    .dataframe thead th {\n",
       "        text-align: right;\n",
       "    }\n",
       "</style>\n",
       "<table border=\"1\" class=\"dataframe\">\n",
       "  <thead>\n",
       "    <tr style=\"text-align: right;\">\n",
       "      <th></th>\n",
       "      <th>class_label</th>\n",
       "      <th>sensor0</th>\n",
       "      <th>sensor1</th>\n",
       "      <th>sensor2</th>\n",
       "      <th>sensor3</th>\n",
       "      <th>sensor4</th>\n",
       "      <th>sensor5</th>\n",
       "      <th>sensor6</th>\n",
       "      <th>sensor7</th>\n",
       "      <th>sensor8</th>\n",
       "      <th>sensor9</th>\n",
       "    </tr>\n",
       "  </thead>\n",
       "  <tbody>\n",
       "    <tr>\n",
       "      <th>count</th>\n",
       "      <td>400.000000</td>\n",
       "      <td>400.000000</td>\n",
       "      <td>400.000000</td>\n",
       "      <td>400.000000</td>\n",
       "      <td>400.000000</td>\n",
       "      <td>400.000000</td>\n",
       "      <td>400.000000</td>\n",
       "      <td>400.000000</td>\n",
       "      <td>400.000000</td>\n",
       "      <td>400.000000</td>\n",
       "      <td>400.000000</td>\n",
       "    </tr>\n",
       "    <tr>\n",
       "      <th>mean</th>\n",
       "      <td>0.000000</td>\n",
       "      <td>0.523661</td>\n",
       "      <td>0.509223</td>\n",
       "      <td>0.481238</td>\n",
       "      <td>0.509752</td>\n",
       "      <td>0.497875</td>\n",
       "      <td>0.501065</td>\n",
       "      <td>0.490480</td>\n",
       "      <td>0.482372</td>\n",
       "      <td>0.482822</td>\n",
       "      <td>0.541933</td>\n",
       "    </tr>\n",
       "    <tr>\n",
       "      <th>std</th>\n",
       "      <td>1.001252</td>\n",
       "      <td>0.268194</td>\n",
       "      <td>0.276878</td>\n",
       "      <td>0.287584</td>\n",
       "      <td>0.297712</td>\n",
       "      <td>0.288208</td>\n",
       "      <td>0.287634</td>\n",
       "      <td>0.289954</td>\n",
       "      <td>0.282714</td>\n",
       "      <td>0.296180</td>\n",
       "      <td>0.272490</td>\n",
       "    </tr>\n",
       "    <tr>\n",
       "      <th>min</th>\n",
       "      <td>-1.000000</td>\n",
       "      <td>0.007775</td>\n",
       "      <td>0.003865</td>\n",
       "      <td>0.004473</td>\n",
       "      <td>0.001466</td>\n",
       "      <td>0.000250</td>\n",
       "      <td>0.000425</td>\n",
       "      <td>0.000173</td>\n",
       "      <td>0.003322</td>\n",
       "      <td>0.003165</td>\n",
       "      <td>0.000452</td>\n",
       "    </tr>\n",
       "    <tr>\n",
       "      <th>25%</th>\n",
       "      <td>-1.000000</td>\n",
       "      <td>0.299792</td>\n",
       "      <td>0.283004</td>\n",
       "      <td>0.235544</td>\n",
       "      <td>0.262697</td>\n",
       "      <td>0.249369</td>\n",
       "      <td>0.269430</td>\n",
       "      <td>0.226687</td>\n",
       "      <td>0.242848</td>\n",
       "      <td>0.213626</td>\n",
       "      <td>0.321264</td>\n",
       "    </tr>\n",
       "    <tr>\n",
       "      <th>50%</th>\n",
       "      <td>0.000000</td>\n",
       "      <td>0.534906</td>\n",
       "      <td>0.507583</td>\n",
       "      <td>0.460241</td>\n",
       "      <td>0.510066</td>\n",
       "      <td>0.497842</td>\n",
       "      <td>0.497108</td>\n",
       "      <td>0.477341</td>\n",
       "      <td>0.463438</td>\n",
       "      <td>0.462251</td>\n",
       "      <td>0.578389</td>\n",
       "    </tr>\n",
       "    <tr>\n",
       "      <th>75%</th>\n",
       "      <td>1.000000</td>\n",
       "      <td>0.751887</td>\n",
       "      <td>0.727843</td>\n",
       "      <td>0.734937</td>\n",
       "      <td>0.768975</td>\n",
       "      <td>0.743401</td>\n",
       "      <td>0.738854</td>\n",
       "      <td>0.735304</td>\n",
       "      <td>0.732483</td>\n",
       "      <td>0.740542</td>\n",
       "      <td>0.768990</td>\n",
       "    </tr>\n",
       "    <tr>\n",
       "      <th>max</th>\n",
       "      <td>1.000000</td>\n",
       "      <td>0.999476</td>\n",
       "      <td>0.998680</td>\n",
       "      <td>0.992963</td>\n",
       "      <td>0.995119</td>\n",
       "      <td>0.999412</td>\n",
       "      <td>0.997367</td>\n",
       "      <td>0.997141</td>\n",
       "      <td>0.998230</td>\n",
       "      <td>0.996098</td>\n",
       "      <td>0.999465</td>\n",
       "    </tr>\n",
       "  </tbody>\n",
       "</table>\n",
       "</div>"
      ],
      "text/plain": [
       "       class_label     sensor0     sensor1     sensor2     sensor3  \\\n",
       "count   400.000000  400.000000  400.000000  400.000000  400.000000   \n",
       "mean      0.000000    0.523661    0.509223    0.481238    0.509752   \n",
       "std       1.001252    0.268194    0.276878    0.287584    0.297712   \n",
       "min      -1.000000    0.007775    0.003865    0.004473    0.001466   \n",
       "25%      -1.000000    0.299792    0.283004    0.235544    0.262697   \n",
       "50%       0.000000    0.534906    0.507583    0.460241    0.510066   \n",
       "75%       1.000000    0.751887    0.727843    0.734937    0.768975   \n",
       "max       1.000000    0.999476    0.998680    0.992963    0.995119   \n",
       "\n",
       "          sensor4     sensor5     sensor6     sensor7     sensor8     sensor9  \n",
       "count  400.000000  400.000000  400.000000  400.000000  400.000000  400.000000  \n",
       "mean     0.497875    0.501065    0.490480    0.482372    0.482822    0.541933  \n",
       "std      0.288208    0.287634    0.289954    0.282714    0.296180    0.272490  \n",
       "min      0.000250    0.000425    0.000173    0.003322    0.003165    0.000452  \n",
       "25%      0.249369    0.269430    0.226687    0.242848    0.213626    0.321264  \n",
       "50%      0.497842    0.497108    0.477341    0.463438    0.462251    0.578389  \n",
       "75%      0.743401    0.738854    0.735304    0.732483    0.740542    0.768990  \n",
       "max      0.999412    0.997367    0.997141    0.998230    0.996098    0.999465  "
      ]
     },
     "execution_count": 4,
     "metadata": {},
     "output_type": "execute_result"
    }
   ],
   "source": [
    "sensor_data.describe()"
   ]
  },
  {
   "cell_type": "code",
   "execution_count": 5,
   "metadata": {
    "scrolled": true
   },
   "outputs": [],
   "source": [
    "X = sensor_data.iloc[:,2:12]  #independent columns\n",
    "y = sensor_data.iloc[:,1] #class label column"
   ]
  },
  {
   "cell_type": "code",
   "execution_count": 6,
   "metadata": {},
   "outputs": [
    {
     "data": {
      "text/plain": [
       "array(['sensor0', 'sensor1', 'sensor2', 'sensor3', 'sensor4', 'sensor5',\n",
       "       'sensor6', 'sensor7', 'sensor8', 'sensor9'], dtype='<U7')"
      ]
     },
     "execution_count": 6,
     "metadata": {},
     "output_type": "execute_result"
    }
   ],
   "source": [
    "# feature names\n",
    "data_columns = np.array(list(X.columns.values))\n",
    "data_columns"
   ]
  },
  {
   "cell_type": "markdown",
   "metadata": {},
   "source": [
    "## Lets check the correlation between the features by creating correlation matrix"
   ]
  },
  {
   "cell_type": "code",
   "execution_count": 7,
   "metadata": {},
   "outputs": [
    {
     "data": {
      "text/plain": [
       "Text(0.5,1,'Correlation matrix')"
      ]
     },
     "execution_count": 7,
     "metadata": {},
     "output_type": "execute_result"
    },
    {
     "data": {
      "image/png": "[encoded data removed]",
      "text/plain": [
       "<Figure size 432x288 with 2 Axes>"
      ]
     },
     "metadata": {
      "needs_background": "light"
     },
     "output_type": "display_data"
    }
   ],
   "source": [
    "sns.heatmap(X.assign(class_ = y).corr().round(2), cmap = 'Accent', annot = True).set_title('Correlation matrix', fontsize = 14)"
   ]
  },
  {
   "cell_type": "markdown",
   "metadata": {},
   "source": [
    "#### Correlation matrix shows that there is no correlation between the features.\n",
    "#### Further, lets concentrate on drawing the importance of features using different models. "
   ]
  },
  {
   "cell_type": "markdown",
   "metadata": {},
   "source": [
    "# Model Based Ranking\n",
    "\n",
    "#### General way to perform is that we can fit a classfier to each feature and rank the importance/predictive power. This method displays the most powerful features individually but ignores the predictive power when features are merged together.\n",
    "#### One of the commonly used classifier is Decision Tree classifier\n",
    "#### Decision tree builds classification or regression models in the form of a tree structure. It breaks down a data set into smaller and smaller subsets while at the same time an associated decision tree is incrementally developed[6].\n"
   ]
  },
  {
   "cell_type": "code",
   "execution_count": 8,
   "metadata": {},
   "outputs": [
    {
     "name": "stdout",
     "output_type": "stream",
     "text": [
      "Scores of individual samples:\n",
      "[['99' 'sensor6']\n",
      " ['78' 'sensor1']\n",
      " ['77' 'sensor8']\n",
      " ['73' 'sensor2']\n",
      " ['69' 'sensor4']\n",
      " ['64' 'sensor0']\n",
      " ['59' 'sensor5']\n",
      " ['58' 'sensor9']\n",
      " ['53' 'sensor3']\n",
      " ['49' 'sensor7']]\n"
     ]
    }
   ],
   "source": [
    "#decision tree\n",
    "decision = DecisionTreeClassifier()\n",
    "decision.fit(X, y)\n",
    "scores_dec = []\n",
    "num_features = len(X.columns)\n",
    "for i in range(num_features):\n",
    "    col = X.columns[i]\n",
    "    score_dec = np.mean(cross_val_score(decision, X[col].values.reshape(-1,1), y, cv=10))\n",
    "    scores_dec.append((int(score_dec*100), col))\n",
    "\n",
    "print(\"Scores of individual samples:\")\n",
    "scores_dec = np.array(sorted(scores_dec, reverse = True))\n",
    "print(scores_dec)"
   ]
  },
  {
   "cell_type": "code",
   "execution_count": 9,
   "metadata": {},
   "outputs": [
    {
     "name": "stdout",
     "output_type": "stream",
     "text": [
      "Wall time: 0 ns\n"
     ]
    }
   ],
   "source": [
    "%time dec_importances = decision.feature_importances_"
   ]
  },
  {
   "cell_type": "code",
   "execution_count": 10,
   "metadata": {},
   "outputs": [],
   "source": [
    "# return importances\n",
    "def imp_features(feature_names, importances):\n",
    "    print(\"Feature importance of sensor data in descending order\")\n",
    "    imp = pd.DataFrame({'feature':feature_names , 'feature_importance':importances})\\\n",
    "        .sort_values('feature_importance',ascending=False)\\\n",
    "        .reset_index(drop = True)\n",
    "    return imp\n",
    "\n",
    "# Plot the ranking of the sensors\n",
    "def plot_feature_imp(importances, title):\n",
    "    plt.figure()\n",
    "    indices = np.argsort(importances)[::-1]\n",
    "    plt.title(title)\n",
    "    plt.bar(range(X.shape[1]), importances[indices],\n",
    "           color=\"r\", align=\"center\")\n",
    "    plt.xticks(range(X.shape[1]), indices)\n",
    "    plt.xlim([-1, X.shape[1]])\n",
    "    plt.show()"
   ]
  },
  {
   "cell_type": "code",
   "execution_count": 11,
   "metadata": {},
   "outputs": [
    {
     "name": "stdout",
     "output_type": "stream",
     "text": [
      "Feature importance of sensor data in descending order\n"
     ]
    },
    {
     "data": {
      "text/html": [
       "<div>\n",
       "<style scoped>\n",
       "    .dataframe tbody tr th:only-of-type {\n",
       "        vertical-align: middle;\n",
       "    }\n",
       "\n",
       "    .dataframe tbody tr th {\n",
       "        vertical-align: top;\n",
       "    }\n",
       "\n",
       "    .dataframe thead th {\n",
       "        text-align: right;\n",
       "    }\n",
       "</style>\n",
       "<table border=\"1\" class=\"dataframe\">\n",
       "  <thead>\n",
       "    <tr style=\"text-align: right;\">\n",
       "      <th></th>\n",
       "      <th>feature</th>\n",
       "      <th>feature_importance</th>\n",
       "    </tr>\n",
       "  </thead>\n",
       "  <tbody>\n",
       "    <tr>\n",
       "      <th>0</th>\n",
       "      <td>sensor8</td>\n",
       "      <td>0.587708</td>\n",
       "    </tr>\n",
       "    <tr>\n",
       "      <th>1</th>\n",
       "      <td>sensor6</td>\n",
       "      <td>0.343163</td>\n",
       "    </tr>\n",
       "    <tr>\n",
       "      <th>2</th>\n",
       "      <td>sensor0</td>\n",
       "      <td>0.047977</td>\n",
       "    </tr>\n",
       "    <tr>\n",
       "      <th>3</th>\n",
       "      <td>sensor1</td>\n",
       "      <td>0.009679</td>\n",
       "    </tr>\n",
       "    <tr>\n",
       "      <th>4</th>\n",
       "      <td>sensor7</td>\n",
       "      <td>0.008333</td>\n",
       "    </tr>\n",
       "    <tr>\n",
       "      <th>5</th>\n",
       "      <td>sensor4</td>\n",
       "      <td>0.003140</td>\n",
       "    </tr>\n",
       "    <tr>\n",
       "      <th>6</th>\n",
       "      <td>sensor2</td>\n",
       "      <td>0.000000</td>\n",
       "    </tr>\n",
       "    <tr>\n",
       "      <th>7</th>\n",
       "      <td>sensor3</td>\n",
       "      <td>0.000000</td>\n",
       "    </tr>\n",
       "    <tr>\n",
       "      <th>8</th>\n",
       "      <td>sensor5</td>\n",
       "      <td>0.000000</td>\n",
       "    </tr>\n",
       "    <tr>\n",
       "      <th>9</th>\n",
       "      <td>sensor9</td>\n",
       "      <td>0.000000</td>\n",
       "    </tr>\n",
       "  </tbody>\n",
       "</table>\n",
       "</div>"
      ],
      "text/plain": [
       "   feature  feature_importance\n",
       "0  sensor8            0.587708\n",
       "1  sensor6            0.343163\n",
       "2  sensor0            0.047977\n",
       "3  sensor1            0.009679\n",
       "4  sensor7            0.008333\n",
       "5  sensor4            0.003140\n",
       "6  sensor2            0.000000\n",
       "7  sensor3            0.000000\n",
       "8  sensor5            0.000000\n",
       "9  sensor9            0.000000"
      ]
     },
     "execution_count": 11,
     "metadata": {},
     "output_type": "execute_result"
    }
   ],
   "source": [
    "imp_features(data_columns, dec_importances)"
   ]
  },
  {
   "cell_type": "markdown",
   "metadata": {},
   "source": [
    "#### Individual feature scores are generated and displayed in descending order. Sensor8 have the highest score and sensor9 have the least score. We cannot decide that these above features with scores are final. Therefore, We need to show the importance of the feature from different classifier and fit with feature samples and target.\n",
    "#### Lets work on this task to show the best predictive power by performing several experiments and try to visulaize it. This will help us understand which feature has more importance."
   ]
  },
  {
   "cell_type": "code",
   "execution_count": 12,
   "metadata": {},
   "outputs": [
    {
     "data": {
      "image/png": "[encoded data removed]",
      "text/plain": [
       "<Figure size 432x288 with 1 Axes>"
      ]
     },
     "metadata": {
      "needs_background": "light"
     },
     "output_type": "display_data"
    }
   ],
   "source": [
    "plot_feature_imp(dec_importances, \"Sensor ranking according to the feature importance\")"
   ]
  },
  {
   "cell_type": "code",
   "execution_count": 13,
   "metadata": {},
   "outputs": [],
   "source": [
    "from sklearn.preprocessing import scale\n",
    "def pred_power_asperclass(X, Y, feature_ranking):\n",
    "    X = scale(X)\n",
    "    for c in set(Y):\n",
    "        df = np.mean(X[Y==c, :], axis=0)*feature_ranking\n",
    "        indices = np.argsort(df)[::-1]\n",
    "        feature_list = [data_columns[indices[f]] for f in range(X.shape[1])]  #names of features.\n",
    "        ff = np.array(feature_list)\n",
    "        print(\"\\nClass %d\" %c)\n",
    "        print(\"Rank, Feauture_name, Value\")\n",
    "        for f in range(X.shape[1]):\n",
    "            rank = print(\"%d %s %f \" % (f + 1, ff[f], df[indices[f]]))\n",
    "    return rank"
   ]
  },
  {
   "cell_type": "code",
   "execution_count": 14,
   "metadata": {},
   "outputs": [
    {
     "name": "stdout",
     "output_type": "stream",
     "text": [
      "Decision Tree Classifier\n",
      "\n",
      "Sensors rank with respect to class label\n",
      "\n",
      "Class 1\n",
      "Rank, Feauture_name, Value\n",
      "1 sensor8 0.388250 \n",
      "2 sensor0 0.026065 \n",
      "3 sensor4 0.001908 \n",
      "4 sensor7 0.001463 \n",
      "5 sensor9 0.000000 \n",
      "6 sensor5 0.000000 \n",
      "7 sensor3 0.000000 \n",
      "8 sensor2 0.000000 \n",
      "9 sensor1 -0.002439 \n",
      "10 sensor6 -0.002544 \n",
      "\n",
      "Class -1\n",
      "Rank, Feauture_name, Value\n",
      "1 sensor6 0.002544 \n",
      "2 sensor1 0.002439 \n",
      "3 sensor9 -0.000000 \n",
      "4 sensor5 -0.000000 \n",
      "5 sensor3 -0.000000 \n",
      "6 sensor2 -0.000000 \n",
      "7 sensor7 -0.001463 \n",
      "8 sensor4 -0.001908 \n",
      "9 sensor0 -0.026065 \n",
      "10 sensor8 -0.388250 \n"
     ]
    }
   ],
   "source": [
    "print(\"Decision Tree Classifier\\n\")\n",
    "print('Sensors rank with respect to class label')\n",
    "pred_power_asperclass(X, y, dec_importances)"
   ]
  },
  {
   "cell_type": "markdown",
   "metadata": {},
   "source": [
    "#### sensor8 have the highest score and sensor6 have the least score for class 1 and  sensor6 have the highest score and sensor8 have the least score for class -1. Ranking the feature as per the class are bit different.\n",
    "#### We can also see how these features are related in the plot below."
   ]
  },
  {
   "cell_type": "code",
   "execution_count": 15,
   "metadata": {},
   "outputs": [],
   "source": [
    "# Plot the ranking of the sensors for class 1\n",
    "def plot_import_asperclassone(X, Y, importances,title):\n",
    "    plt.figure()\n",
    "    X = scale(X)\n",
    "    df = np.mean(X[Y==1, :], axis=0)*importances\n",
    "    indices = np.argsort(df)[::-1]\n",
    "    plt.title(title)\n",
    "    plt.bar(range(X.shape[1]), df[indices],\n",
    "           color=\"r\", align=\"center\")\n",
    "    plt.xticks(range(X.shape[1]), indices)\n",
    "    plt.xlim([-1, X.shape[1]])\n",
    "    plt.show()\n",
    "    \n",
    "# Plot the ranking of the sensors for class -1\n",
    "def plot_import_asperclassminusone(X, Y, importances,title):\n",
    "    plt.figure()\n",
    "    X = scale(X)\n",
    "    df = np.mean(X[Y==-1, :], axis=0)*importances\n",
    "    indices = np.argsort(df)[::-1]\n",
    "    plt.title(title)\n",
    "    plt.bar(range(X.shape[1]), df[indices],\n",
    "           color=\"r\", align=\"center\")\n",
    "    plt.xticks(range(X.shape[1]), indices)\n",
    "    plt.xlim([-1, X.shape[1]])\n",
    "    plt.show()"
   ]
  },
  {
   "cell_type": "code",
   "execution_count": 16,
   "metadata": {},
   "outputs": [
    {
     "data": {
      "image/png": "[encoded data removed]",
      "text/plain": [
       "<Figure size 432x288 with 1 Axes>"
      ]
     },
     "metadata": {
      "needs_background": "light"
     },
     "output_type": "display_data"
    }
   ],
   "source": [
    "plot_import_asperclassone(X, y, dec_importances, \"Decision tree - Sensor ranking for class 1\")"
   ]
  },
  {
   "cell_type": "code",
   "execution_count": 17,
   "metadata": {},
   "outputs": [
    {
     "data": {
      "image/png": "[encoded data removed]",
      "text/plain": [
       "<Figure size 432x288 with 1 Axes>"
      ]
     },
     "metadata": {
      "needs_background": "light"
     },
     "output_type": "display_data"
    }
   ],
   "source": [
    "plot_import_asperclassminusone(X, y, dec_importances, \"Decision tree - Sensor ranking for class 1\")"
   ]
  },
  {
   "cell_type": "markdown",
   "metadata": {},
   "source": [
    "#### Random Forest Classifier\n",
    "#### A random forest is a meta estimator that fits a number of decision tree classifiers on various sub-samples of the dataset and uses averaging to improve the predictive accuracy and control over-fitting [1].\n",
    "#### Random Forest Classifier is used in this case because it is robust, nonlinear, and doesn't require scaling."
   ]
  },
  {
   "cell_type": "code",
   "execution_count": 18,
   "metadata": {},
   "outputs": [
    {
     "name": "stdout",
     "output_type": "stream",
     "text": [
      "Scores of individual samples:\n"
     ]
    },
    {
     "data": {
      "text/plain": [
       "array([['99', 'sensor6'],\n",
       "       ['90', 'sensor1'],\n",
       "       ['87', 'sensor8'],\n",
       "       ['86', 'sensor2'],\n",
       "       ['83', 'sensor4'],\n",
       "       ['81', 'sensor0'],\n",
       "       ['74', 'sensor5'],\n",
       "       ['73', 'sensor3'],\n",
       "       ['67', 'sensor9'],\n",
       "       ['63', 'sensor7']], dtype='<U11')"
      ]
     },
     "execution_count": 18,
     "metadata": {},
     "output_type": "execute_result"
    }
   ],
   "source": [
    "#Random Forest\n",
    "clf = RandomForestClassifier(n_estimators = 100, max_depth = 4)\n",
    "clf.fit(X, y)\n",
    "scores = []\n",
    "num_features = len(X.columns)\n",
    "for i in range(num_features):\n",
    "    col = X.columns[i]\n",
    "    score = np.mean(cross_val_score(clf, X[col].values.reshape(-1,1), y, cv=10))\n",
    "    scores.append((int(score*100), col))\n",
    "\n",
    "print(\"Scores of individual samples:\")\n",
    "scores = np.array(sorted(scores, reverse = True))\n",
    "scores"
   ]
  },
  {
   "cell_type": "markdown",
   "metadata": {},
   "source": [
    "#### Individual feature scores are generated and displayed in descending order. We can see that model has performed very well on the data.\n",
    "#### sensor6 have the highest score and sensor7 have the least score. We cannot decide that these above feature with scores are final. Therefore, we need to show the importance of the feature from different classifier and fit with feature samples and target.\n",
    "#### Lets work on this task to show the best predictive power by performing several experiments and try to visulaize it. This will help us to understand which feature has to be given more importance."
   ]
  },
  {
   "cell_type": "code",
   "execution_count": 19,
   "metadata": {},
   "outputs": [
    {
     "name": "stdout",
     "output_type": "stream",
     "text": [
      "Wall time: 16 ms\n",
      "Feature importance of sensor data in descending order\n"
     ]
    },
    {
     "data": {
      "text/html": [
       "<div>\n",
       "<style scoped>\n",
       "    .dataframe tbody tr th:only-of-type {\n",
       "        vertical-align: middle;\n",
       "    }\n",
       "\n",
       "    .dataframe tbody tr th {\n",
       "        vertical-align: top;\n",
       "    }\n",
       "\n",
       "    .dataframe thead th {\n",
       "        text-align: right;\n",
       "    }\n",
       "</style>\n",
       "<table border=\"1\" class=\"dataframe\">\n",
       "  <thead>\n",
       "    <tr style=\"text-align: right;\">\n",
       "      <th></th>\n",
       "      <th>feature</th>\n",
       "      <th>feature_importance</th>\n",
       "    </tr>\n",
       "  </thead>\n",
       "  <tbody>\n",
       "    <tr>\n",
       "      <th>0</th>\n",
       "      <td>sensor8</td>\n",
       "      <td>0.248492</td>\n",
       "    </tr>\n",
       "    <tr>\n",
       "      <th>1</th>\n",
       "      <td>sensor4</td>\n",
       "      <td>0.215785</td>\n",
       "    </tr>\n",
       "    <tr>\n",
       "      <th>2</th>\n",
       "      <td>sensor6</td>\n",
       "      <td>0.200522</td>\n",
       "    </tr>\n",
       "    <tr>\n",
       "      <th>3</th>\n",
       "      <td>sensor0</td>\n",
       "      <td>0.150073</td>\n",
       "    </tr>\n",
       "    <tr>\n",
       "      <th>4</th>\n",
       "      <td>sensor3</td>\n",
       "      <td>0.055249</td>\n",
       "    </tr>\n",
       "    <tr>\n",
       "      <th>5</th>\n",
       "      <td>sensor2</td>\n",
       "      <td>0.045653</td>\n",
       "    </tr>\n",
       "    <tr>\n",
       "      <th>6</th>\n",
       "      <td>sensor1</td>\n",
       "      <td>0.035744</td>\n",
       "    </tr>\n",
       "    <tr>\n",
       "      <th>7</th>\n",
       "      <td>sensor5</td>\n",
       "      <td>0.020879</td>\n",
       "    </tr>\n",
       "    <tr>\n",
       "      <th>8</th>\n",
       "      <td>sensor9</td>\n",
       "      <td>0.014799</td>\n",
       "    </tr>\n",
       "    <tr>\n",
       "      <th>9</th>\n",
       "      <td>sensor7</td>\n",
       "      <td>0.012804</td>\n",
       "    </tr>\n",
       "  </tbody>\n",
       "</table>\n",
       "</div>"
      ],
      "text/plain": [
       "   feature  feature_importance\n",
       "0  sensor8            0.248492\n",
       "1  sensor4            0.215785\n",
       "2  sensor6            0.200522\n",
       "3  sensor0            0.150073\n",
       "4  sensor3            0.055249\n",
       "5  sensor2            0.045653\n",
       "6  sensor1            0.035744\n",
       "7  sensor5            0.020879\n",
       "8  sensor9            0.014799\n",
       "9  sensor7            0.012804"
      ]
     },
     "execution_count": 19,
     "metadata": {},
     "output_type": "execute_result"
    }
   ],
   "source": [
    "# function for creating a feature importance dataframe\n",
    "%time rfc_importances = clf.feature_importances_\n",
    "imp_features(data_columns, rfc_importances)"
   ]
  },
  {
   "cell_type": "code",
   "execution_count": 20,
   "metadata": {},
   "outputs": [
    {
     "data": {
      "image/png": "[encoded data removed]",
      "text/plain": [
       "<Figure size 432x288 with 1 Axes>"
      ]
     },
     "metadata": {
      "needs_background": "light"
     },
     "output_type": "display_data"
    }
   ],
   "source": [
    "plot_feature_imp(rfc_importances, \"Sensor ranking according to the feature importance\")"
   ]
  },
  {
   "cell_type": "markdown",
   "metadata": {},
   "source": [
    "#### As we can see that random forest classifier provides feature importance, the top features are sensor8, sensor6, and sensor4 [2].\n",
    "#### Lets rank the feature with respect to the class labels using random forest classifier and how it works individually."
   ]
  },
  {
   "cell_type": "code",
   "execution_count": 21,
   "metadata": {},
   "outputs": [
    {
     "name": "stdout",
     "output_type": "stream",
     "text": [
      "Random Forest Classifier\n",
      "\n",
      "Sensors rank with respect to class label\n",
      "\n",
      "Class 1\n",
      "Rank, Feauture_name, Value\n",
      "1 sensor8 0.164158 \n",
      "2 sensor4 0.131116 \n",
      "3 sensor0 0.081534 \n",
      "4 sensor3 0.023958 \n",
      "5 sensor5 0.004680 \n",
      "6 sensor7 0.002249 \n",
      "7 sensor2 0.001770 \n",
      "8 sensor9 0.001404 \n",
      "9 sensor6 -0.001487 \n",
      "10 sensor1 -0.009008 \n",
      "\n",
      "Class -1\n",
      "Rank, Feauture_name, Value\n",
      "1 sensor1 0.009008 \n",
      "2 sensor6 0.001487 \n",
      "3 sensor9 -0.001404 \n",
      "4 sensor2 -0.001770 \n",
      "5 sensor7 -0.002249 \n",
      "6 sensor5 -0.004680 \n",
      "7 sensor3 -0.023958 \n",
      "8 sensor0 -0.081534 \n",
      "9 sensor4 -0.131116 \n",
      "10 sensor8 -0.164158 \n"
     ]
    }
   ],
   "source": [
    "print(\"Random Forest Classifier\\n\")\n",
    "print('Sensors rank with respect to class label')\n",
    "pred_power_asperclass(X, y, rfc_importances)"
   ]
  },
  {
   "cell_type": "markdown",
   "metadata": {},
   "source": [
    "#### As per the class label sensor8, sensor4 and sensor0 is top for class 1 and sensor1, sensor6, sensor9 is top for class -1.\n",
    "#### class -1 is the reversed of class 1 as we can notice that.\n",
    "#### From the plot below also explains the same, and we can notice that as the feature goes downside there is drastic changes in the value which is not at all correlated to each other. For class -1 it is negative value."
   ]
  },
  {
   "cell_type": "code",
   "execution_count": 22,
   "metadata": {},
   "outputs": [
    {
     "data": {
      "image/png": "[encoded data removed]",
      "text/plain": [
       "<Figure size 432x288 with 1 Axes>"
      ]
     },
     "metadata": {
      "needs_background": "light"
     },
     "output_type": "display_data"
    }
   ],
   "source": [
    "plot_import_asperclassone(X, y, rfc_importances, \"Random forest - Sensor ranking for class 1\")"
   ]
  },
  {
   "cell_type": "code",
   "execution_count": 23,
   "metadata": {},
   "outputs": [
    {
     "data": {
      "image/png": "[encoded data removed]",
      "text/plain": [
       "<Figure size 432x288 with 1 Axes>"
      ]
     },
     "metadata": {
      "needs_background": "light"
     },
     "output_type": "display_data"
    }
   ],
   "source": [
    "plot_import_asperclassminusone(X, y, rfc_importances, \"Random forest - Sensor ranking for class -1\")"
   ]
  },
  {
   "cell_type": "markdown",
   "metadata": {},
   "source": [
    "#### This default feature importance doesn't gives a proper picture of feature importance. This is because that there is bias involved in this method[3] . Another issue is the collinearity and the inflation towards the continous values.\n",
    "\n",
    "#### Hence we need to find a better method."
   ]
  },
  {
   "cell_type": "markdown",
   "metadata": {},
   "source": [
    "## Extra Trees Classifier\n",
    "#### Extremely Randomized Trees Classifier(Extra Trees Classifier) is a type of ensemble learning technique which aggregates the results of multiple de-correlated decision trees collected in a “forest” to output it's classification result. This concept, is very similar to a Random Forest Classifier and only differs from it in the manner of construction of the decision trees in the forest[4]."
   ]
  },
  {
   "cell_type": "code",
   "execution_count": 24,
   "metadata": {},
   "outputs": [
    {
     "name": "stdout",
     "output_type": "stream",
     "text": [
      "Accuracy (10-fold):  0.9679802955665024\n",
      "Wall time: 0 ns\n"
     ]
    }
   ],
   "source": [
    "#extra tree\n",
    "#split to training and testing\n",
    "X_train, X_test, y_train, y_test = train_test_split(X, y, test_size=0.3, random_state=41)\n",
    "\n",
    "# define classifier and fitting data\n",
    "forest = ExtraTreesClassifier(random_state=1)\n",
    "forest.fit(X_train, y_train)\n",
    "\n",
    "#Applying 10-fold cross validation\n",
    "accuracies = cross_val_score(estimator=forest, X=X_train, y=y_train, cv=10)\n",
    "print(\"Accuracy (10-fold): \", np.mean(accuracies))\n",
    "\n",
    "# Features importances\n",
    "%time etc_importances = forest.feature_importances_"
   ]
  },
  {
   "cell_type": "code",
   "execution_count": 25,
   "metadata": {},
   "outputs": [
    {
     "name": "stdout",
     "output_type": "stream",
     "text": [
      "Feature importance of sensor data in descending order\n"
     ]
    },
    {
     "data": {
      "text/html": [
       "<div>\n",
       "<style scoped>\n",
       "    .dataframe tbody tr th:only-of-type {\n",
       "        vertical-align: middle;\n",
       "    }\n",
       "\n",
       "    .dataframe tbody tr th {\n",
       "        vertical-align: top;\n",
       "    }\n",
       "\n",
       "    .dataframe thead th {\n",
       "        text-align: right;\n",
       "    }\n",
       "</style>\n",
       "<table border=\"1\" class=\"dataframe\">\n",
       "  <thead>\n",
       "    <tr style=\"text-align: right;\">\n",
       "      <th></th>\n",
       "      <th>feature</th>\n",
       "      <th>feature_importance</th>\n",
       "    </tr>\n",
       "  </thead>\n",
       "  <tbody>\n",
       "    <tr>\n",
       "      <th>0</th>\n",
       "      <td>sensor8</td>\n",
       "      <td>0.209768</td>\n",
       "    </tr>\n",
       "    <tr>\n",
       "      <th>1</th>\n",
       "      <td>sensor6</td>\n",
       "      <td>0.200965</td>\n",
       "    </tr>\n",
       "    <tr>\n",
       "      <th>2</th>\n",
       "      <td>sensor0</td>\n",
       "      <td>0.159766</td>\n",
       "    </tr>\n",
       "    <tr>\n",
       "      <th>3</th>\n",
       "      <td>sensor4</td>\n",
       "      <td>0.158863</td>\n",
       "    </tr>\n",
       "    <tr>\n",
       "      <th>4</th>\n",
       "      <td>sensor1</td>\n",
       "      <td>0.085588</td>\n",
       "    </tr>\n",
       "    <tr>\n",
       "      <th>5</th>\n",
       "      <td>sensor3</td>\n",
       "      <td>0.058358</td>\n",
       "    </tr>\n",
       "    <tr>\n",
       "      <th>6</th>\n",
       "      <td>sensor2</td>\n",
       "      <td>0.040734</td>\n",
       "    </tr>\n",
       "    <tr>\n",
       "      <th>7</th>\n",
       "      <td>sensor9</td>\n",
       "      <td>0.031502</td>\n",
       "    </tr>\n",
       "    <tr>\n",
       "      <th>8</th>\n",
       "      <td>sensor5</td>\n",
       "      <td>0.030630</td>\n",
       "    </tr>\n",
       "    <tr>\n",
       "      <th>9</th>\n",
       "      <td>sensor7</td>\n",
       "      <td>0.023825</td>\n",
       "    </tr>\n",
       "  </tbody>\n",
       "</table>\n",
       "</div>"
      ],
      "text/plain": [
       "   feature  feature_importance\n",
       "0  sensor8            0.209768\n",
       "1  sensor6            0.200965\n",
       "2  sensor0            0.159766\n",
       "3  sensor4            0.158863\n",
       "4  sensor1            0.085588\n",
       "5  sensor3            0.058358\n",
       "6  sensor2            0.040734\n",
       "7  sensor9            0.031502\n",
       "8  sensor5            0.030630\n",
       "9  sensor7            0.023825"
      ]
     },
     "execution_count": 25,
     "metadata": {},
     "output_type": "execute_result"
    }
   ],
   "source": [
    "# function for creating a feature importance dataframe\n",
    "imp_features(data_columns, etc_importances)"
   ]
  },
  {
   "cell_type": "code",
   "execution_count": 26,
   "metadata": {},
   "outputs": [
    {
     "data": {
      "image/png": "[encoded data removed]",
      "text/plain": [
       "<Figure size 432x288 with 1 Axes>"
      ]
     },
     "metadata": {
      "needs_background": "light"
     },
     "output_type": "display_data"
    }
   ],
   "source": [
    "plot_feature_imp(etc_importances, \"Sensor ranking according to the feature importance\")"
   ]
  },
  {
   "cell_type": "code",
   "execution_count": 27,
   "metadata": {},
   "outputs": [
    {
     "name": "stdout",
     "output_type": "stream",
     "text": [
      "Extra Trees Classifier\n",
      "\n",
      "Sensors rank with respect to class label\n",
      "\n",
      "Class 1\n",
      "Rank, Feauture_name, Value\n",
      "1 sensor8 0.138576 \n",
      "2 sensor4 0.096529 \n",
      "3 sensor0 0.086800 \n",
      "4 sensor3 0.025306 \n",
      "5 sensor5 0.006866 \n",
      "6 sensor7 0.004184 \n",
      "7 sensor9 0.002990 \n",
      "8 sensor2 0.001579 \n",
      "9 sensor6 -0.001490 \n",
      "10 sensor1 -0.021569 \n",
      "\n",
      "Class -1\n",
      "Rank, Feauture_name, Value\n",
      "1 sensor1 0.021569 \n",
      "2 sensor6 0.001490 \n",
      "3 sensor2 -0.001579 \n",
      "4 sensor9 -0.002990 \n",
      "5 sensor7 -0.004184 \n",
      "6 sensor5 -0.006866 \n",
      "7 sensor3 -0.025306 \n",
      "8 sensor0 -0.086800 \n",
      "9 sensor4 -0.096529 \n",
      "10 sensor8 -0.138576 \n",
      "Wall time: 15.6 ms\n"
     ]
    }
   ],
   "source": [
    "print(\"Extra Trees Classifier\\n\")\n",
    "print('Sensors rank with respect to class label')\n",
    "%time pred_power_asperclass(X, y, etc_importances)"
   ]
  },
  {
   "cell_type": "code",
   "execution_count": 28,
   "metadata": {},
   "outputs": [
    {
     "data": {
      "image/png": "[encoded data removed]",
      "text/plain": [
       "<Figure size 432x288 with 1 Axes>"
      ]
     },
     "metadata": {
      "needs_background": "light"
     },
     "output_type": "display_data"
    }
   ],
   "source": [
    "plot_import_asperclassone(X, y, etc_importances, \"Extra Tree Classifer - Sensor ranking for class 1\")"
   ]
  },
  {
   "cell_type": "code",
   "execution_count": 29,
   "metadata": {},
   "outputs": [
    {
     "data": {
      "image/png": "[encoded data removed]",
      "text/plain": [
       "<Figure size 432x288 with 1 Axes>"
      ]
     },
     "metadata": {
      "needs_background": "light"
     },
     "output_type": "display_data"
    }
   ],
   "source": [
    "plot_import_asperclassminusone(X, y, etc_importances, \"Extra Tree Classifer - Sensor ranking for class -1\")"
   ]
  },
  {
   "cell_type": "markdown",
   "metadata": {},
   "source": [
    "#### As we can notice that the extra tree method gives almost same result when compared to the random forest and decision tree's feature importance. In this result also sensor8 turned out to be more important for class 1 and sensor1 for class -1.\n",
    "\n",
    "#### This method shows us a way where in we can check how the score will reduce if a particular feature importance changes from model to model. Since the number of features present is not more for this problem, this method is not power intensive(resource consumption), otherwise it might suffer if the number of features increase."
   ]
  },
  {
   "cell_type": "markdown",
   "metadata": {},
   "source": [
    "## Xgboost Method\n",
    "#### XGBoost (Extreme Gradient Boosting) belongs to a family of boosting algorithms and uses the gradient boosting (GBM) framework at its core. It is an optimized distributed gradient boosting library.\n",
    "#### Boosting is a sequential technique which works on the principle of an ensemble. It combines a set of weak learners and delivers improved prediction accuracy. At any instant t, the model outcomes are weighed based on the outcomes of previous instant t-1. The outcomes predicted correctly are given a lower weight and the ones miss-classified are weighted higher. Note that a weak learner is one which is slightly better than random guessing [5]."
   ]
  },
  {
   "cell_type": "code",
   "execution_count": 30,
   "metadata": {},
   "outputs": [
    {
     "name": "stdout",
     "output_type": "stream",
     "text": [
      "Accuracy (10-fold):  0.9928571428571429\n",
      "Wall time: 0 ns\n"
     ]
    }
   ],
   "source": [
    "# Xgboost\n",
    "import warnings\n",
    "warnings.filterwarnings(\"ignore\")\n",
    "xgb = XGBClassifier(n_estimators = 100,\n",
    "                           n_jobs = -1,\n",
    "                           oob_score = True,\n",
    "                           bootstrap = True, random_state=42)\n",
    "xgb.fit(X, y)\n",
    "\n",
    "#Applying 10-fold cross validation\n",
    "xgb_accuracy = cross_val_score(estimator=xgb, X=X_train, y=y_train, cv=10)\n",
    "print(\"Accuracy (10-fold): \", np.mean(xgb_accuracy))\n",
    "\n",
    "# Features importances\n",
    "%time xgb_importances = xgb.feature_importances_"
   ]
  },
  {
   "cell_type": "code",
   "execution_count": 31,
   "metadata": {},
   "outputs": [
    {
     "name": "stdout",
     "output_type": "stream",
     "text": [
      "Feature importance of sensor data in descending order\n"
     ]
    },
    {
     "data": {
      "text/html": [
       "<div>\n",
       "<style scoped>\n",
       "    .dataframe tbody tr th:only-of-type {\n",
       "        vertical-align: middle;\n",
       "    }\n",
       "\n",
       "    .dataframe tbody tr th {\n",
       "        vertical-align: top;\n",
       "    }\n",
       "\n",
       "    .dataframe thead th {\n",
       "        text-align: right;\n",
       "    }\n",
       "</style>\n",
       "<table border=\"1\" class=\"dataframe\">\n",
       "  <thead>\n",
       "    <tr style=\"text-align: right;\">\n",
       "      <th></th>\n",
       "      <th>feature</th>\n",
       "      <th>feature_importance</th>\n",
       "    </tr>\n",
       "  </thead>\n",
       "  <tbody>\n",
       "    <tr>\n",
       "      <th>0</th>\n",
       "      <td>sensor8</td>\n",
       "      <td>0.661009</td>\n",
       "    </tr>\n",
       "    <tr>\n",
       "      <th>1</th>\n",
       "      <td>sensor6</td>\n",
       "      <td>0.130181</td>\n",
       "    </tr>\n",
       "    <tr>\n",
       "      <th>2</th>\n",
       "      <td>sensor4</td>\n",
       "      <td>0.088022</td>\n",
       "    </tr>\n",
       "    <tr>\n",
       "      <th>3</th>\n",
       "      <td>sensor0</td>\n",
       "      <td>0.050873</td>\n",
       "    </tr>\n",
       "    <tr>\n",
       "      <th>4</th>\n",
       "      <td>sensor2</td>\n",
       "      <td>0.027038</td>\n",
       "    </tr>\n",
       "    <tr>\n",
       "      <th>5</th>\n",
       "      <td>sensor1</td>\n",
       "      <td>0.022148</td>\n",
       "    </tr>\n",
       "    <tr>\n",
       "      <th>6</th>\n",
       "      <td>sensor9</td>\n",
       "      <td>0.017939</td>\n",
       "    </tr>\n",
       "    <tr>\n",
       "      <th>7</th>\n",
       "      <td>sensor3</td>\n",
       "      <td>0.002789</td>\n",
       "    </tr>\n",
       "    <tr>\n",
       "      <th>8</th>\n",
       "      <td>sensor5</td>\n",
       "      <td>0.000000</td>\n",
       "    </tr>\n",
       "    <tr>\n",
       "      <th>9</th>\n",
       "      <td>sensor7</td>\n",
       "      <td>0.000000</td>\n",
       "    </tr>\n",
       "  </tbody>\n",
       "</table>\n",
       "</div>"
      ],
      "text/plain": [
       "   feature  feature_importance\n",
       "0  sensor8            0.661009\n",
       "1  sensor6            0.130181\n",
       "2  sensor4            0.088022\n",
       "3  sensor0            0.050873\n",
       "4  sensor2            0.027038\n",
       "5  sensor1            0.022148\n",
       "6  sensor9            0.017939\n",
       "7  sensor3            0.002789\n",
       "8  sensor5            0.000000\n",
       "9  sensor7            0.000000"
      ]
     },
     "execution_count": 31,
     "metadata": {},
     "output_type": "execute_result"
    }
   ],
   "source": [
    "# function for creating a feature importance dataframe\n",
    "imp_features(data_columns, xgb_importances)"
   ]
  },
  {
   "cell_type": "markdown",
   "metadata": {},
   "source": [
    "#### Xgboost method comparing to other method from previous, score has been increased from ~96% to ~99%. This helped us to overcome the issue of collinearity which the default feature importance method suffer's with.\n",
    "\n",
    "#### This method shows us a way where in we can check how the score will increase due to the collinearity issue."
   ]
  },
  {
   "cell_type": "code",
   "execution_count": 32,
   "metadata": {},
   "outputs": [
    {
     "data": {
      "image/png": "[encoded data removed]",
      "text/plain": [
       "<Figure size 432x288 with 1 Axes>"
      ]
     },
     "metadata": {
      "needs_background": "light"
     },
     "output_type": "display_data"
    }
   ],
   "source": [
    "plot_feature_imp(xgb_importances, \"Sensor ranking according to the feature importance\")"
   ]
  },
  {
   "cell_type": "code",
   "execution_count": 33,
   "metadata": {},
   "outputs": [
    {
     "name": "stdout",
     "output_type": "stream",
     "text": [
      "Xgboost Classifier\n",
      "\n",
      "Sensors rank with respect to class label\n",
      "\n",
      "Class 1\n",
      "Rank, Feauture_name, Value\n",
      "1 sensor8 0.436675 \n",
      "2 sensor4 0.053484 \n",
      "3 sensor0 0.027639 \n",
      "4 sensor9 0.001703 \n",
      "5 sensor3 0.001210 \n",
      "6 sensor2 0.001048 \n",
      "7 sensor7 0.000000 \n",
      "8 sensor5 0.000000 \n",
      "9 sensor6 -0.000965 \n",
      "10 sensor1 -0.005581 \n",
      "\n",
      "Class -1\n",
      "Rank, Feauture_name, Value\n",
      "1 sensor1 0.005581 \n",
      "2 sensor6 0.000965 \n",
      "3 sensor7 -0.000000 \n",
      "4 sensor5 -0.000000 \n",
      "5 sensor2 -0.001048 \n",
      "6 sensor3 -0.001210 \n",
      "7 sensor9 -0.001703 \n",
      "8 sensor0 -0.027639 \n",
      "9 sensor4 -0.053484 \n",
      "10 sensor8 -0.436675 \n",
      "Wall time: 15.6 ms\n"
     ]
    }
   ],
   "source": [
    "print(\"Xgboost Classifier\\n\")\n",
    "print('Sensors rank with respect to class label')\n",
    "%time pred_power_asperclass(X, y, xgb_importances)"
   ]
  },
  {
   "cell_type": "markdown",
   "metadata": {},
   "source": [
    "#### Here, sensor 8 is still an important feature and is the top value for class 1 and sensor1 for class -1. As we can notice that by using this method we got the similar result as we obtained in previous methods except that the score increases only."
   ]
  },
  {
   "cell_type": "code",
   "execution_count": 34,
   "metadata": {},
   "outputs": [
    {
     "data": {
      "image/png": "[encoded data removed]",
      "text/plain": [
       "<Figure size 432x288 with 1 Axes>"
      ]
     },
     "metadata": {
      "needs_background": "light"
     },
     "output_type": "display_data"
    }
   ],
   "source": [
    "plot_import_asperclassone(X, y, xgb_importances, \"Xgboost Classifer - Sensor ranking for class 1\")"
   ]
  },
  {
   "cell_type": "code",
   "execution_count": 35,
   "metadata": {
    "scrolled": true
   },
   "outputs": [
    {
     "data": {
      "image/png": "[encoded data removed]",
      "text/plain": [
       "<Figure size 432x288 with 1 Axes>"
      ]
     },
     "metadata": {
      "needs_background": "light"
     },
     "output_type": "display_data"
    }
   ],
   "source": [
    "plot_import_asperclassminusone(X, y, xgb_importances, \"Xgboost Classifer - Sensor ranking for class -1\")"
   ]
  },
  {
   "cell_type": "markdown",
   "metadata": {},
   "source": [
    "# Take Aways:"
   ]
  },
  {
   "cell_type": "markdown",
   "metadata": {},
   "source": [
    "#### On the whole sensor 8 turns out to be an important feature. I have also explained the reasons for chosing the models and methods. The Xgboost method helps us to identify the feature importance by eliminating bias. \n",
    "#### Scikit learn default feature_importance gives the same result with accuracy and predictive power but Xgboost feature importance gives different results with the increase in accuracy because in boosting as we saw there is not much correlation between the features , boosting will use the feature that is not correlated since correlated feature will not be used in the splitting process.\n",
    "\n",
    "#### Scalability of the methods with respect to number of features and/or samples changes each time we execute the models and the time is very less as the dataset is small. However these methods might suffer when applied on large datasets.\n",
    "#### Surprisingly, feature importance are ranked same as the other methods as well.\n",
    "\n",
    "#### This tells that with either of the methods feature 8 stands on top of values and other feature are also ranked same from every models described above."
   ]
  },
  {
   "cell_type": "markdown",
   "metadata": {},
   "source": [
    "## References\n",
    "### 1. https://scikit-learn.org/stable/modules/generated/sklearn.ensemble.RandomForestClassifier.html\n",
    "### 2. https://scikit-learn.org/stable/modules/feature_selection.html\n",
    "### 3. https://www.stat.berkeley.edu/~breiman/RandomForests/cc_home.htm#varimp\n",
    "### 4. https://www.geeksforgeeks.org/ml-extra-tree-classifier-for-feature-selection/\n",
    "### 5. https://www.datacamp.com/community/tutorials/xgboost-in-python\n",
    "### 6. https://medium.com/@chiragsehra42/decision-trees-explained-easily-28f23241248"
   ]
  },
  {
   "cell_type": "code",
   "execution_count": null,
   "metadata": {},
   "outputs": [],
   "source": []
  }
 ],
 "metadata": {
  "kernelspec": {
   "display_name": "Python 3",
   "language": "python",
   "name": "python3"
  },
  "language_info": {
   "codemirror_mode": {
    "name": "ipython",
    "version": 3
   },
   "file_extension": ".py",
   "mimetype": "text/x-python",
   "name": "python",
   "nbconvert_exporter": "python",
   "pygments_lexer": "ipython3",
   "version": "3.7.0"
  }
 },
 "nbformat": 4,
 "nbformat_minor": 2
}
